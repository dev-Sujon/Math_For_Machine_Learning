import numpy as np


# Vector Dot Product
# The dot product is the sum of the products of the corresponding entries of the two sequences of numbers.
# The dot product of two vectors is a scalar.


a = np.array([1, 2, 3])
b = np.array([4, 5, 6])
# a.b = 1*4 + 2*5 + 3*6 = 32

a_dot_b = np.dot(a, b)
print(f"The dot product of a and b (a.b) is: {a_dot_b}")


# There are three different ways to represent the dot product of two vectors.

# a**T*b
# a.b
# < a, b >


c = np.array([7, 8, 9])

print(f"The dot product of b.a is the same as a.b: {np.dot(b,a)}")


first_result = np.dot(a, b + c)
print(f"The first result is: {np.dot(a, b + c)}")


second_result = np.dot(a, b) + np.dot(a, c)
print(f"The second result is: {np.dot(a, b) + np.dot(a, c)}")


# Scalar and Vector Projection


# Magnitude of a Vector
# To calculate the magnitude of vector a, we just need to use numpy as such: 

# Magnitude = np.norm(a)


# Vector Projection:
# A vector projection of vector a onto another vector b is the orthogonal projection of a onto b.


import numpy as np1
from numpy import linalg as lng


a = np1.array([20, 30, 40, 50]) # Vector a
b = np1.array([60, 70, 80, 90]) # Vector b


# To calculate a norm of the vector a:
lng.norm(a)


# The projection of a vector a onto vector b is the division of the dot product of (a,b) and the dot product of (b,b) multiplied by the vector b:

vector_projection = (np1.dot(a, b) / np1.dot(b, b)) * b
print(vector_projection)


# Changing Basis of Vectors


# Basis Vectors have three properties:
# 1: Are linearly independent of each other
# 2: Span the whole space
# 3: Aren't unique


a = [4, -3]
a = 1 * [2, 1] + (-2) * [-1, 2]
print(a)


# Example of matrix-vector multiplication using the symbol @

A = np.array([[2, 1],
              [1, 3]])

B = np.array([4, 5])

result = A @ B  # Matrix-vector multiplication

print(result)


# Original basis vectors
basis_original = np1.array([[2, 1],
                           [1, 3]])

# New basis vectors
basis_new = np1.array([[3, -1],
                      [1, 2]])

# Vector in the original basis
vector_original = np1.array([4, 5])

# Compute the transformation matrix from original to new basis
transformation_matrix = np1.linalg.inv(basis_original) @ basis_new

# Transform the vector to the new basis
vector_new = transformation_matrix @ vector_original

print("Original Vector:", vector_original)
print("Vector in New Basis:", vector_new)


# Basis, Linear Independence, and Span


# Spanning Set:
# The set {v1, ..., vn} is a spanning set for V if and only if every vector in V can be written as a linear combination of v1, ..., vn.


# Original basis vectors
basis = np1.array([[2, 1],
                  [1, 3]])

# Vectors for demonstrating span
vector1 = np1.array([2, 1])
vector2 = np1.array([-1, 2])
vector3 = np1.array([3, 5])

# Check linear independence
vectors = np1.vstack((vector1, vector2, vector3))
linear_independent = np1.linalg.matrix_rank(vectors) == vectors.shape[0]

# Check if vectors span the space
spanning_matrix = np1.vstack((vector1, vector2, vector3))
spanning_space = np1.linalg.matrix_rank(spanning_matrix) == basis.shape[0]

print("Original Basis:")
print(basis)

print("\nVectors for Demonstrating Span:")
print(vector1)
print(vector2)
print(vector3)

print("\nLinear Independence:", linear_independent)
print("Spanning the Space:", spanning_space)
