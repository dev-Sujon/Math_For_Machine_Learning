# Matrices

# In the context of machine learning and linear algebra, matrices can be thought of as organized collections of numbers arranged in rows and columns. They are fundamental tools used to represent and manipulate data in various mathematical operations.

# Think of a matrix as a structured grid of numbers, where each number is referred to as an element of the matrix. The rows run horizontally, and the columns run vertically. Matrices are used to perform operations like transformations, rotations, and scaling, making them incredibly valuable in describing transformations and relationships within data.

# In machine learning, matrices are extensively used to represent datasets, where each row might correspond to a different data point, and each column represents a different feature or attribute. They enable us to perform mathematical operations on entire sets of data simultaneously, facilitating tasks like feature transformation, dimensionality reduction, and solving systems of linear equations.

# Overall, matrices provide a way to organize and process data efficiently, making them a cornerstone of linear algebra, which is a foundational field in machine learning.


import numpy as np

# Creating matrices
matrix_a = np.array([[1, 2, 3],
                     [4, 5, 6]])

matrix_b = np.array([[2, 0],
                     [1, 3],
                     [2, 2]])

# Matrix multiplication
result = np.dot(matrix_a, matrix_b)

print("Matrix A:")
print(matrix_a)

print("\nMatrix B:")
print(matrix_b)

print("\nResult of Matrix Multiplication (A * B):")
print(result)


# In this example, we're using the NumPy library to create and manipulate matrices. `matrix_a` is a 2x3 matrix (2 rows, 3 columns), and `matrix_b` is a 3x2 matrix (3 rows, 2 columns). We then perform matrix multiplication using `np.dot()` to get the result, which will be a 2x2 matrix.

# Remember that for matrix multiplication, the number of columns in the first matrix must match the number of rows in the second matrix. The resulting matrix will have the same number of rows as the first matrix and the same number of columns as the second matrix.


# Types of Matrices


# There are seven different types of matrices:

# - Rectangular Matrix: Imagine a table where the number of rows is not equal to the number of columns. This is called a rectangular matrix. It's like having different amounts of information for different items.

# - Square Matrix: If you have a table where the number of rows is equal to the number of columns, you have a square matrix. It's like having a balanced collection of information, like a square photo frame.

# - Symmetric Matrix: Think of a mirror. If the numbers in a square matrix are symmetrically placed around its main diagonal (the one going from the top left to the bottom right), it's a symmetric matrix. It's like having a perfectly balanced reflection of numbers.

# - Zero Matrix: Imagine a table filled with zeros only. That's a zero matrix. It's like having a blank canvas with no information.

# - Identity Matrix: Picture a square matrix where the main diagonal contains ones, and the rest are zeros. This is an identity matrix. It's like a magic mirror that doesn't change anything when you multiply it with another matrix.

# - Diagonal Matrix: Think of a square matrix where the only non-zero elements are on the main diagonal. It's like having a table where each item only affects itself, but not the others.

# - Triangular Matrix: Imagine dividing a square matrix into two parts diagonally - one with zeros above the diagonal and the other with zeros below. These are upper triangular and lower triangular matrices. It's like having information that flows in a specific direction.

# So, different types of matrices are like different arrangements of numbers in tables, each with its own special characteristics and uses.


# Types of Matrix Transformation


# Matrix transformations are operations that change the positions, sizes, and orientations of points or vectors in a space. They play a crucial role in fields like linear algebra and computer graphics. Here are some common types of matrix transformations explained in simple terms:

# Translation: This transformation shifts all points or vectors by a certain amount in a specific direction. Think of it as moving an entire shape without changing its size or shape.

# Scaling: Scaling changes the size of points or vectors uniformly in all directions. Envision it like stretching or shrinking an object while keeping its proportions.

# Rotation: Rotation turns points or vectors around a central point (often the origin). It's like spinning an object in place.

# Shearing: Shearing skews or distorts an object along a particular axis. Picture it like pushing the top or side of an object to make it slant.

# Reflection: Reflection flips points or vectors over a certain line, like a mirror. It's like seeing a flipped version of an object in water.

# Projection: Projection transforms points or vectors onto a lower-dimensional subspace. Imagine casting a shadow of a 3D object onto a 2D surface.

# Affine Transformation: Affine transformations combine translation, rotation, scaling, and shearing. They maintain parallel lines but can change the shape, size, and position of objects.

# Perspective Transformation: Often used in computer graphics, this transformation mimics the way objects appear smaller as they get farther away. It's like creating an illusion of depth in 2D images.

# Each type of transformation is represented by a specific matrix. Applying these transformations to points or vectors using these matrices helps manipulate and visualize objects in different ways. These transformations are vital in various fields, from computer graphics and animations to physics simulations and data analysis.


# Composition or combination of matrix transformations:


# Composition or combination of matrix transformations involves applying multiple transformations in a sequence. This creates a new transformation that's a result of the individual transformations being applied one after another.

# Think of it like following a set of instructions step by step. Each transformation changes the object's properties, and when you combine multiple transformations, you get a more complex change in the end.

# For example, if you first rotate an object and then scale it, the final result will be different from scaling and then rotating. The order of transformations matters. Combining transformations can create intricate changes in position, size, and orientation of objects in a space.


import numpy as np
import matplotlib.pyplot as plt
import matplotlib.patches as patches

# Original points
points = np.array([[1, 1],
                   [2, 1],
                   [2, 2],
                   [1, 2]])

# Create a figure and axis
fig, ax = plt.subplots(figsize=(8, 6))

# Original shape
original_shape = patches.Polygon(points, closed=True, fill=None, edgecolor='black')
ax.add_patch(original_shape)

# Transformation matrices
translate_matrix = np.array([[1, 0, 1],
                             [0, 1, 1],
                             [0, 0, 1]])

scale_matrix = np.array([[0.5, 0, 0],
                         [0, 0.5, 0],
                         [0, 0, 1]])

rotate_matrix = np.array([[np.cos(np.pi/4), -np.sin(np.pi/4), 0],
                          [np.sin(np.pi/4), np.cos(np.pi/4), 0],
                          [0, 0, 1]])

shear_matrix = np.array([[1, 0.5, 0],
                         [0.5, 1, 0],
                         [0, 0, 1]])

reflection_matrix = np.array([[-1, 0, 0],
                              [0, 1, 0],
                              [0, 0, 1]])

# Apply transformations and plot
transformations = [translate_matrix, scale_matrix, rotate_matrix, shear_matrix, reflection_matrix]

for transform in transformations:
    transformed_points = points @ transform[:2, :2].T + transform[:2, 2]
    transformed_shape = patches.Polygon(transformed_points, closed=True, fill=None, edgecolor='red', linestyle='dashed')
    ax.add_patch(transformed_shape)

ax.set_xlim(-2, 3)
ax.set_ylim(-2, 3)
ax.set_aspect('equal', adjustable='datalim')
plt.grid()
plt.show()


# In this example, we start with a simple square defined by its vertices in the points array. We then create various transformation matrices for translation, scaling, rotation, shearing, and reflection. For each transformation, we apply the matrix to the original points and plot the transformed shape on the same figure.

# Keep in mind that this is a simplified example for demonstration purposes. In real-world scenarios, more complex transformations might be required, and libraries like NumPy and matplotlib provide the tools to perform and visualize such transformations.



