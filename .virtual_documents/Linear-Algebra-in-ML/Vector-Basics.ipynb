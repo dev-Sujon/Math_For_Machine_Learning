import numpy as np

a = np.array([20, 40, 60])
b = np.array([10, 40, -15])
c = np.array([11, 31, 72, 28])


print(f"a vector :{a}")
print(f"b vector :{b}")
print(f"c vector :{c}")


# Vector Addition
print(f"The addition of vectors a and b is: {a + b}")

try:
    print(a + c)  # Error because dimensions are not the same.
except Exception as e:
    print(f"The {e}because the dimensions of the vectors are not the same... they cannot be added.")


# Vector Subtraction
print(f"The difference between the vectors a and b is: {a - b}")

try:
    print(a - c)  # Error because dimensions are not the same.
except Exception as e:
    print(f"The {e}because the dimensions of the vectors are not the same... they cannot be subtracted.")


# Vector Multiplication
print(f"The multiplication of array a and b is: {a * b}")


# Vector Division
print(f"The division of vectors a and b is: {a / b}")


# Vector Scalar Multiplication
scalar = 2
list_a = [10, 11, 12, 13, 14, 15]

print(f"Scalar: {scalar}")
print(f"List: {list_a}")


# Convert and print the regular list to a numpy array list and multiply by scalar.
list_as_array = np.array(list_a)
print(f"A scalar multiplied by an array list results in: {scalar * list_as_array}")
# Each number in the list is multiplied by the scalar and the list is modified with the new values.


# The following is `not` vector scalar multiplication, it is just a list being multiplied by a number, in this case, 2.
print(f"A scalar multiplied by a list results in: {scalar * list_a}")


vectorAsList = [1, 2, 3, 4, 5]
vectorAsArray = np.array([1, 2, 3, 4, 5])
rowVector = np.array([[1, 2, 3, 4, 5]])
columnVector = np.array([[1], [2], [3], [4], [5]])



